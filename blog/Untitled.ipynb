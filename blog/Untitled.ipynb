{
 "cells": [
  {
   "cell_type": "code",
   "execution_count": 26,
   "metadata": {
    "collapsed": false
   },
   "outputs": [],
   "source": [
    "src_str = '/media/2016/12/6/807-bora-bora-wallpaper_Muu4PdP-1600.jpg 1600w, /media/2016/12/6/807-bora-bora-wallpaper_Muu4PdP-800.jpg 800w, /media/2016/12/6/807-bora-bora-wallpaper_Muu4PdP-1920.jpg 1920w, /media/2016/12/6/807-bora-bora-wallpaper_Muu4PdP-480.jpg 480w, /media/2016/12/6/807-bora-bora-wallpaper_Muu4PdP-1366.jpg 1366w,'\n"
   ]
  },
  {
   "cell_type": "code",
   "execution_count": 29,
   "metadata": {
    "collapsed": false
   },
   "outputs": [
    {
     "data": {
      "text/plain": [
       "'/media/2016/12/6/807-bora-bora-wallpaper_Muu4PdP-1600.jpg 1600w, /media/2016/12/6/807-bora-bora-wallpaper_Muu4PdP-800.jpg 800w, /media/2016/12/6/807-bora-bora-wallpaper_Muu4PdP-1920.jpg 1920w, /media/2016/12/6/807-bora-bora-wallpaper_Muu4PdP-480.jpg 480w, /media/2016/12/6/807-bora-bora-wallpaper_Muu4PdP-1366.jpg 1366w'"
      ]
     },
     "execution_count": 29,
     "metadata": {},
     "output_type": "execute_result"
    }
   ],
   "source": [
    "src_str.rstrip(', ')"
   ]
  },
  {
   "cell_type": "code",
   "execution_count": 64,
   "metadata": {
    "collapsed": false
   },
   "outputs": [],
   "source": [
    "gen = (i for i in img_links if not i.has_attr('srcset'))"
   ]
  },
  {
   "cell_type": "code",
   "execution_count": 89,
   "metadata": {
    "collapsed": false
   },
   "outputs": [],
   "source": [
    "img_links2 = []"
   ]
  },
  {
   "cell_type": "code",
   "execution_count": 94,
   "metadata": {
    "collapsed": false
   },
   "outputs": [
    {
     "data": {
      "text/plain": [
       "bs4.element.Tag"
      ]
     },
     "execution_count": 94,
     "metadata": {},
     "output_type": "execute_result"
    }
   ],
   "source": [
    "type(img_links2[0])"
   ]
  },
  {
   "cell_type": "code",
   "execution_count": null,
   "metadata": {
    "collapsed": true
   },
   "outputs": [],
   "source": []
  }
 ],
 "metadata": {
  "kernelspec": {
   "display_name": "Python 3",
   "language": "python",
   "name": "python3"
  },
  "language_info": {
   "codemirror_mode": {
    "name": "ipython",
    "version": 3
   },
   "file_extension": ".py",
   "mimetype": "text/x-python",
   "name": "python",
   "nbconvert_exporter": "python",
   "pygments_lexer": "ipython3",
   "version": "3.5.2"
  }
 },
 "nbformat": 4,
 "nbformat_minor": 2
}
