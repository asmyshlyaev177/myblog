{
 "cells": [
  {
   "cell_type": "code",
   "execution_count": 148,
   "metadata": {
    "collapsed": false
   },
   "outputs": [],
   "source": [
    "img_links = re.findall\\\n",
    "\t\t(r\"/(?P<year>\\d{4})/(?P<month>\\d{1,2})/(?P<day>\\d{1,2})/(?P<file>\\S*)-(?P<res>\\d{3,4})\\.(?P<ext>\\S*)\",\\\n",
    "        str(p.text))"
   ]
  },
  {
   "cell_type": "code",
   "execution_count": 149,
   "metadata": {
    "collapsed": false
   },
   "outputs": [
    {
     "data": {
      "text/plain": [
       "[('2016',\n",
       "  '12',\n",
       "  '1',\n",
       "  '%D0%B4%D0%B5%D0%BC%D0%BE%D1%82%D0%B8%D0%B2%D0%B0%D1%82%D0%BE%D1%80%20%D0%B2%D1%8B%D0%BF%D1%83%D1%81%D0%BA%D0%BD%D0%BE%D0%B9',\n",
       "  '480',\n",
       "  'jpg'),\n",
       " ('2016',\n",
       "  '12',\n",
       "  '1',\n",
       "  '%D0%B4%D0%B5%D0%BC%D0%BE%D1%82%D0%B8%D0%B2%D0%B0%D1%82%D0%BE%D1%80%20%D0%B2%D1%8B%D0%BF%D1%83%D1%81%D0%BA%D0%BD%D0%BE%D0%B9',\n",
       "  '800',\n",
       "  'jpg')]"
      ]
     },
     "execution_count": 149,
     "metadata": {},
     "output_type": "execute_result"
    }
   ],
   "source": [
    "img_links"
   ]
  },
  {
   "cell_type": "code",
   "execution_count": 145,
   "metadata": {
    "collapsed": false
   },
   "outputs": [
    {
     "name": "stdout",
     "output_type": "stream",
     "text": [
      "/root/myblog/myblog/blog/static/media/2016/12/1/демотиватор выпускной\n",
      "/root/myblog/myblog/blog/static/media/2016/12/1/демотиватор выпускной\n"
     ]
    }
   ],
   "source": [
    "for img in img_links:\n",
    "    img_path = uri_to_iri('/root/myblog/myblog/blog/static/media/{}/{}/{}/{}'.format(img[0], img[1],img[2],img[3]))\n",
    "    print(img_path)"
   ]
  },
  {
   "cell_type": "code",
   "execution_count": 143,
   "metadata": {
    "collapsed": false
   },
   "outputs": [
    {
     "name": "stdout",
     "output_type": "stream",
     "text": [
      "/root/myblog/myblog/blog/static/media/2016/12/1/демотиватор выпускной.jpg\n",
      "/root/myblog/myblog/blog/static/media/2016/12/1/демотиватор выпускной-480.jpg\n",
      "/root/myblog/myblog/blog/static/media/2016/12/1/демотиватор выпускной-800.jpg\n"
     ]
    }
   ],
   "source": [
    "img_links = re.findall\\\n",
    "\t\t(r\"/(?P<year>\\d{4})/(?P<month>\\d{1,2})/(?P<day>\\d{1,2})/(?P<file>\\S*)-(?P<res>\\d{3,4})\\.(?P<ext>\\S*)\",\\\n",
    "        str(p.text))\n",
    "img_path = []\n",
    "img_path.append(uri_to_iri('/root/myblog/myblog/blog/static/media/{}/{}/{}/{}.{}'\\\n",
    "                                   .format(img[0], img[1],img[2],img[3],img[5])))\n",
    "for img in img_links:\n",
    "\timg_path.append(uri_to_iri('/root/myblog/myblog/blog/static/media/{}/{}/{}/{}{}.{}'\\\n",
    "                                   .format(img[0], img[1],img[2],img[3],\"-\"+img[4],img[5])))\n",
    "for i in img_path:\n",
    "    print(i)\n",
    "    if os.path.isfile(i):\n",
    "        pass\n"
   ]
  },
  {
   "cell_type": "code",
   "execution_count": 151,
   "metadata": {
    "collapsed": false
   },
   "outputs": [
    {
     "ename": "SyntaxError",
     "evalue": "invalid syntax (<ipython-input-151-31fea9c68626>, line 1)",
     "output_type": "error",
     "traceback": [
      "\u001b[0;36m  File \u001b[0;32m\"<ipython-input-151-31fea9c68626>\"\u001b[0;36m, line \u001b[0;32m1\u001b[0m\n\u001b[0;31m    git status\u001b[0m\n\u001b[0m             ^\u001b[0m\n\u001b[0;31mSyntaxError\u001b[0m\u001b[0;31m:\u001b[0m invalid syntax\n"
     ]
    }
   ],
   "source": [
    "git status\n"
   ]
  },
  {
   "cell_type": "code",
   "execution_count": 110,
   "metadata": {
    "collapsed": false
   },
   "outputs": [],
   "source": [
    "for i in src_szs:\n",
    "            img_path.append(uri_to_iri('/root/myblog/myblog/blog/static/media/{}/{}/{}/{}.{}'\\\n",
    "                                   .format(img[0], img[1],img[2],img[3]+str(-i),img[5])))"
   ]
  },
  {
   "cell_type": "code",
   "execution_count": null,
   "metadata": {
    "collapsed": true
   },
   "outputs": [],
   "source": []
  }
 ],
 "metadata": {
  "kernelspec": {
   "display_name": "Django Shell-Plus",
   "language": "python",
   "name": "django_extensions"
  }
 },
 "nbformat": 4,
 "nbformat_minor": 2
}
