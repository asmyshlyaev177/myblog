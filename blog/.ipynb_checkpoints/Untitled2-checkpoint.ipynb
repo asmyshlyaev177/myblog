{
 "cells": [
  {
   "cell_type": "code",
   "execution_count": 99,
   "metadata": {
    "collapsed": false
   },
   "outputs": [],
   "source": [
    "img_links = re.findall\\\n",
    "\t\t(r\"/(?P<year>\\d{4})/(?P<month>\\d{1,2})/(?P<day>\\d{1,2})/(?P<file>\\S*)-(?P<res>\\d{3,4})\\.(?P<ext>\\S*)\",\\\n",
    "        str(p.text))"
   ]
  },
  {
   "cell_type": "code",
   "execution_count": 100,
   "metadata": {
    "collapsed": false
   },
   "outputs": [
    {
     "data": {
      "text/plain": [
       "\"[('2016', '12', '1', 'демотиватор выпускной', '480', 'jpg'), ('2016', '12', '1', 'демотиватор выпускной', '800', 'jpg')]\""
      ]
     },
     "execution_count": 100,
     "metadata": {},
     "output_type": "execute_result"
    }
   ],
   "source": [
    "uri_to_iri(img_links)"
   ]
  },
  {
   "cell_type": "code",
   "execution_count": 77,
   "metadata": {
    "collapsed": false
   },
   "outputs": [
    {
     "name": "stdout",
     "output_type": "stream",
     "text": [
      "/root/myblog/myblog/blog/static/media/2016/12/1/демотиватор выпускной\n",
      "/root/myblog/myblog/blog/static/media/2016/12/1/демотиватор выпускной\n"
     ]
    }
   ],
   "source": [
    "for img in img_links:\n",
    "    img_path = uri_to_iri('/root/myblog/myblog/blog/static/media/{}/{}/{}/{}'.format(img[0], img[1],img[2],img[3]))\n",
    "    print(img_path)"
   ]
  },
  {
   "cell_type": "code",
   "execution_count": 138,
   "metadata": {
    "collapsed": false
   },
   "outputs": [],
   "source": [
    "img_links = re.findall\\\n",
    "\t\t(r\"/(?P<year>\\d{4})/(?P<month>\\d{1,2})/(?P<day>\\d{1,2})/(?P<file>\\S*)-(?P<res>\\d{3,4})\\.(?P<ext>\\S*)\",\\\n",
    "        str(p.text))\n",
    "img_path = []\n",
    "img_path.append(uri_to_iri('/root/myblog/myblog/blog/static/media/{}/{}/{}/{}.{}'\\\n",
    "                                   .format(img[0], img[1],img[2],img[3],img[5])))\n",
    "for img in img_links:\n",
    "\timg_path.append(uri_to_iri('/root/myblog/myblog/blog/static/media/{}/{}/{}/{}{}.{}'\\\n",
    "                                   .format(img[0], img[1],img[2],img[3],\"-\"+img[4],img[5])))\n",
    "for i in img_path:\n",
    "    print(i)\n",
    "    if os.path.isfile(i):\n",
    "        print(i)\n"
   ]
  },
  {
   "cell_type": "code",
   "execution_count": 130,
   "metadata": {
    "collapsed": false
   },
   "outputs": [
    {
     "data": {
      "text/plain": [
       "['/root/myblog/myblog/blog/static/media/2016/12/1/демотиватор выпускной.jpg']"
      ]
     },
     "execution_count": 130,
     "metadata": {},
     "output_type": "execute_result"
    }
   ],
   "source": [
    "img_path\n"
   ]
  },
  {
   "cell_type": "code",
   "execution_count": 110,
   "metadata": {
    "collapsed": false
   },
   "outputs": [],
   "source": [
    "for i in src_szs:\n",
    "            img_path.append(uri_to_iri('/root/myblog/myblog/blog/static/media/{}/{}/{}/{}.{}'\\\n",
    "                                   .format(img[0], img[1],img[2],img[3]+str(-i),img[5])))"
   ]
  },
  {
   "cell_type": "code",
   "execution_count": null,
   "metadata": {
    "collapsed": true
   },
   "outputs": [],
   "source": []
  }
 ],
 "metadata": {
  "kernelspec": {
   "display_name": "Django Shell-Plus",
   "language": "python",
   "name": "django_extensions"
  }
 },
 "nbformat": 4,
 "nbformat_minor": 2
}
