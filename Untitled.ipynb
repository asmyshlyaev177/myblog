{
 "cells": [
  {
   "cell_type": "code",
   "execution_count": 24,
   "metadata": {
    "collapsed": false
   },
   "outputs": [
    {
     "data": {
      "text/plain": [
       "<QuerySet [{'name': 'tag1', 'rateable': True, 'url': 'tag1', 'created': datetime.datetime(2016, 10, 31, 18, 22, 43, 784545, tzinfo=<UTC>), 'id': 8, 'private': False}, {'name': 'tag1', 'rateable': True, 'url': 'tag1_nsfw', 'created': datetime.datetime(2016, 10, 31, 18, 22, 56, 767053, tzinfo=<UTC>), 'id': 9, 'private': True}, {'name': 'nsfw', 'rateable': True, 'url': 'nsfw_nsfw', 'created': datetime.datetime(2016, 10, 31, 18, 24, 6, 291418, tzinfo=<UTC>), 'id': 10, 'private': True}, {'name': 'тэг2', 'rateable': True, 'url': 'тэг2', 'created': datetime.datetime(2016, 10, 31, 19, 49, 23, 998649, tzinfo=<UTC>), 'id': 11, 'private': False}, {'name': 'tag3', 'rateable': True, 'url': 'tag3', 'created': datetime.datetime(2016, 10, 31, 19, 49, 56, 427364, tzinfo=<UTC>), 'id': 12, 'private': False}, {'name': 'cats', 'rateable': True, 'url': 'cats', 'created': datetime.datetime(2016, 11, 1, 23, 3, 45, 16200, tzinfo=<UTC>), 'id': 14, 'private': False}, {'name': 'test', 'rateable': True, 'url': 'test', 'created': datetime.datetime(2016, 11, 1, 23, 3, 45, 33495, tzinfo=<UTC>), 'id': 15, 'private': False}, {'name': 'Joy', 'rateable': True, 'url': 'joy', 'created': datetime.datetime(2016, 11, 1, 23, 12, 4, 526495, tzinfo=<UTC>), 'id': 16, 'private': False}, {'name': 'тест', 'rateable': True, 'url': 'тест', 'created': datetime.datetime(2016, 11, 19, 16, 10, 15, 844394, tzinfo=<UTC>), 'id': 38, 'private': False}, {'name': 'и ещё один!', 'rateable': True, 'url': 'и-ещё-один', 'created': datetime.datetime(2016, 11, 19, 16, 10, 15, 989322, tzinfo=<UTC>), 'id': 39, 'private': False}, {'name': '1568', 'rateable': True, 'url': '1568', 'created': datetime.datetime(2016, 11, 22, 17, 7, 2, 370360, tzinfo=<UTC>), 'id': 40, 'private': False}, {'name': \"lheujq n'u\", 'rateable': True, 'url': 'lheujq-nu', 'created': datetime.datetime(2016, 11, 22, 17, 18, 36, 61178, tzinfo=<UTC>), 'id': 41, 'private': False}, {'name': 'kznm', 'rateable': True, 'url': 'kznm', 'created': datetime.datetime(2016, 11, 22, 17, 20, 37, 971358, tzinfo=<UTC>), 'id': 42, 'private': False}, {'name': '111000', 'rateable': True, 'url': '111000', 'created': datetime.datetime(2016, 11, 22, 17, 31, 3, 630398, tzinfo=<UTC>), 'id': 43, 'private': False}, {'name': '236cvfjdsd ghj', 'rateable': True, 'url': '236cvfjdsd-ghj', 'created': datetime.datetime(2016, 11, 22, 17, 31, 54, 987414, tzinfo=<UTC>), 'id': 44, 'private': False}, {'name': 'po po po po ', 'rateable': True, 'url': 'po-po-po-po', 'created': datetime.datetime(2016, 11, 22, 18, 15, 41, 794892, tzinfo=<UTC>), 'id': 45, 'private': False}, {'name': 'pppp ppp pp ', 'rateable': True, 'url': 'pppp-ppp-pp', 'created': datetime.datetime(2016, 11, 22, 18, 16, 59, 299950, tzinfo=<UTC>), 'id': 46, 'private': False}, {'name': 'asd', 'rateable': True, 'url': 'asd', 'created': datetime.datetime(2016, 11, 23, 17, 15, 13, 538419, tzinfo=<UTC>), 'id': 47, 'private': False}, {'name': 'sdg7777777', 'rateable': True, 'url': 'sdg7777777', 'created': datetime.datetime(2016, 11, 23, 17, 21, 3, 1143, tzinfo=<UTC>), 'id': 48, 'private': False}, {'name': 'aaaa9879]', 'rateable': True, 'url': 'aaaa9879', 'created': datetime.datetime(2016, 11, 23, 17, 27, 23, 639472, tzinfo=<UTC>), 'id': 49, 'private': False}, '...(remaining elements truncated)...']>"
      ]
     },
     "execution_count": 24,
     "metadata": {},
     "output_type": "execute_result"
    }
   ],
   "source": [
    "Tag.objects.all().values().cache()"
   ]
  },
  {
   "cell_type": "code",
   "execution_count": 16,
   "metadata": {
    "collapsed": false
   },
   "outputs": [
    {
     "data": {
      "text/plain": [
       "<Post: hgjh>"
      ]
     },
     "execution_count": 16,
     "metadata": {},
     "output_type": "execute_result"
    }
   ],
   "source": [
    "p"
   ]
  },
  {
   "cell_type": "code",
   "execution_count": null,
   "metadata": {
    "collapsed": true
   },
   "outputs": [],
   "source": []
  }
 ],
 "metadata": {
  "kernelspec": {
   "display_name": "Django Shell-Plus",
   "language": "python",
   "name": "django_extensions"
  },
  "language_info": {
   "codemirror_mode": {
    "name": "ipython",
    "version": 3
   },
   "file_extension": ".py",
   "mimetype": "text/x-python",
   "name": "python",
   "nbconvert_exporter": "python",
   "pygments_lexer": "ipython3",
   "version": "3.5.2"
  }
 },
 "nbformat": 4,
 "nbformat_minor": 2
}
